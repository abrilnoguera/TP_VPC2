{
 "cells": [
  {
   "cell_type": "markdown",
   "id": "f57ddd13",
   "metadata": {},
   "source": [
    "<div style=\"text-align: center;\">\n",
    "    <h1> <font style=\"bold\"> Trabajo Práctico Integrador </font></h1>\n",
    "    <h2><font style=\"bold\">Visión por Computadora II - CEIA </font></h2>\n",
    "    <h3><font style=\"bold\">Abril Noguera - Pedro Barrera - Ezequiel Caamaño</font></h3>\n",
    "</div>"
   ]
  },
  {
   "cell_type": "markdown",
   "id": "c3568d9f",
   "metadata": {},
   "source": [
    "# Detección Automatizada de Cáncer de Pulmón mediante Visión por Computadora"
   ]
  },
  {
   "cell_type": "markdown",
   "id": "ea79d704",
   "metadata": {},
   "source": [
    "## Business Case"
   ]
  },
  {
   "cell_type": "markdown",
   "id": "e385eaab",
   "metadata": {},
   "source": [
    "**Motivación:**\n",
    "\n",
    "El cáncer de pulmón es una de las principales causas de muerte a nivel mundial. Su detección temprana es crucial para mejorar el pronóstico y las posibilidades de tratamiento de los pacientes. Sin embargo, los métodos tradicionales de diagnóstico dependen fuertemente de la interpretación humana de imágenes médicas, lo cual puede estar sujeto a errores, demoras y variabilidad entre profesionales.\n",
    "\n",
    "Ante este desafío, las técnicas de visión por computadora y aprendizaje automático ofrecen una oportunidad: automatizar la detección y clasificación de distintos tipos de cáncer pulmonar a partir de imágenes, asistiendo al cuerpo médico en el proceso diagnóstico y permitiendo un análisis más rápido, objetivo y escalable.\n",
    "\n",
    "**Objetivo:**\n",
    "\n",
    "Desarrollar un sistema inteligente basado en redes neuronales convolucionales (CNN) que sea capaz de analizar imágenes de tomografías de tórax (CT-Scans) y:\n",
    "- Detectar si el paciente presenta o no signos de cáncer.\n",
    "- Clasificar el tipo de cáncer entre:\n",
    "    - Adenocarcinoma\n",
    "    - Carcinoma de células grandes\n",
    "    - Carcinoma de células escamosas\n",
    "\n",
    "**Justificación:**\n",
    "\n",
    "Este proyecto tiene un fuerte impacto potencial en varios niveles:\n",
    "\n",
    "*Impacto Clínico:*\n",
    "- Reducción del tiempo diagnóstico.\n",
    "- Mayor precisión y objetividad al identificar tipos específicos de cáncer.\n",
    "- Asistencia a radiólogos y oncólogos con una herramienta complementaria.\n",
    "\n",
    "*Impacto Social:*\n",
    "- Mejora en la calidad de vida de los pacientes mediante una detección temprana.\n",
    "- Democratización del acceso al diagnóstico, especialmente en regiones con escasez de especialistas.\n",
    "\n",
    "*Impacto Económico:*\n",
    "- Reducción de costos médicos derivados de diagnósticos tardíos o tratamientos inadecuados.\n",
    "- Optimización de recursos en instituciones de salud."
   ]
  },
  {
   "cell_type": "markdown",
   "id": "7e7bcf21",
   "metadata": {},
   "source": [
    "## Exploratory Data Analysis"
   ]
  },
  {
   "cell_type": "markdown",
   "id": "c11e8c4f",
   "metadata": {},
   "source": [
    "### Importación del Dataset"
   ]
  },
  {
   "cell_type": "markdown",
   "id": "01fcc8ba",
   "metadata": {},
   "source": [
    "**Descripción del Dataset**\n",
    "\n",
    "Se utilizó el dataset **Chest CT Scan Images** disponible en [Kaggle](https://www.kaggle.com/datasets/mohamedhanyyy/chest-ctscan-images). Contiene imágenes de tomografías de tórax clasificadas en:\n",
    "\n",
    "- Adenocarcinoma  \n",
    "- Carcinoma de células grandes  \n",
    "- Carcinoma de células escamosas  \n",
    "- Células normales\n",
    "\n",
    "Las imágenes están en formato `.jpg` o `.png`, y se organizan en tres subconjuntos: `train` (70%), `valid` (10%) y `test` (20%).\n",
    "\n",
    "> Fuente: [Mohamed Hany – Chest CT Scan Images Dataset](https://www.kaggle.com/datasets/mohamedhanyyy/chest-ctscan-images)"
   ]
  },
  {
   "cell_type": "code",
   "execution_count": 3,
   "id": "86276499",
   "metadata": {},
   "outputs": [
    {
     "name": "stdout",
     "output_type": "stream",
     "text": [
      "Downloading from https://www.kaggle.com/api/v1/datasets/download/mohamedhanyyy/chest-ctscan-images?dataset_version_number=1...\n"
     ]
    },
    {
     "name": "stderr",
     "output_type": "stream",
     "text": [
      "100%|██████████| 119M/119M [00:17<00:00, 6.95MB/s] "
     ]
    },
    {
     "name": "stdout",
     "output_type": "stream",
     "text": [
      "Extracting files...\n"
     ]
    },
    {
     "name": "stderr",
     "output_type": "stream",
     "text": [
      "\n"
     ]
    },
    {
     "name": "stdout",
     "output_type": "stream",
     "text": [
      "Path to dataset files: /Users/anoguera/.cache/kagglehub/datasets/mohamedhanyyy/chest-ctscan-images/versions/1\n"
     ]
    }
   ],
   "source": [
    "import kagglehub\n",
    "\n",
    "# Download latest version\n",
    "path = kagglehub.dataset_download(\"mohamedhanyyy/chest-ctscan-images\")\n",
    "\n",
    "print(\"Path to dataset files:\", path)"
   ]
  },
  {
   "cell_type": "code",
   "execution_count": null,
   "id": "b1b47ab0",
   "metadata": {},
   "outputs": [],
   "source": []
  }
 ],
 "metadata": {
  "kernelspec": {
   "display_name": "CEIA",
   "language": "python",
   "name": "python3"
  },
  "language_info": {
   "codemirror_mode": {
    "name": "ipython",
    "version": 3
   },
   "file_extension": ".py",
   "mimetype": "text/x-python",
   "name": "python",
   "nbconvert_exporter": "python",
   "pygments_lexer": "ipython3",
   "version": "3.11.10"
  }
 },
 "nbformat": 4,
 "nbformat_minor": 5
}
