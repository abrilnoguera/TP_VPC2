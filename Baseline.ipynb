{
 "cells": [
  {
   "cell_type": "markdown",
   "id": "d968e3fb",
   "metadata": {},
   "source": [
    "<div style=\"text-align: center;\">\n",
    "    <h1> <font style=\"bold\"> Trabajo Práctico Integrador </font></h1>\n",
    "    <h2><font style=\"bold\">Visión por Computadora II - CEIA </font></h2>\n",
    "    <h3><font style=\"bold\">Abril Noguera - Pedro Barrera - Ezequiel Caamaño</font></h3>\n",
    "    <h4><font style=\"bold\">Modelo Baseline</font></h4>\n",
    "</div>"
   ]
  },
  {
   "cell_type": "markdown",
   "id": "ebd8ecbf",
   "metadata": {},
   "source": [
    "# Detección Automatizada de Cáncer de Pulmón mediante Visión por Computadora"
   ]
  },
  {
   "cell_type": "markdown",
   "id": "a7608d7e",
   "metadata": {},
   "source": [
    "## Modelo Baseline"
   ]
  },
  {
   "cell_type": "markdown",
   "id": "761e2bbb",
   "metadata": {},
   "source": [
    "### Diseño\n",
    "\n",
    "Para construir un modelo base con buen rendimiento inicial y poco esfuerzo de desarrollo, se optó por usar una arquitectura preentrenada con **transfer learning**.\n",
    "\n",
    "- **Modelo preentrenado**: `ResNet18`, ya entrenado en ImageNet\n",
    "  - Arquitectura liviana y eficiente\n",
    "  - Buen balance entre precisión y velocidad\n",
    "- **Técnica**: Transfer learning con mínimo fine-tuning\n",
    "  - Se congelan los pesos de todas las capas convolucionales\n",
    "  - Solo se entrena el **head** (la capa final de clasificación)\n",
    "- **Salida del modelo**: Clasificación multiclase con 4 clases:\n",
    "  - `adenocarcinoma`, `large.cell.carcinoma`, `squamous.cell.carcinoma`, `normal`\n",
    "\n",
    "Esta configuración busca obtener una primera línea de base rápida, sin necesidad de entrenar el modelo desde cero."
   ]
  },
  {
   "cell_type": "markdown",
   "id": "e4c453cb",
   "metadata": {},
   "source": [
    "### Importación de librerias"
   ]
  },
  {
   "cell_type": "code",
   "execution_count": 36,
   "id": "5b02c8cd",
   "metadata": {},
   "outputs": [
    {
     "data": {
      "text/plain": [
       "True"
      ]
     },
     "execution_count": 36,
     "metadata": {},
     "output_type": "execute_result"
    }
   ],
   "source": [
    "import os\n",
    "import torch\n",
    "import torch.nn as nn\n",
    "from torch.optim import Adam\n",
    "from torchvision import datasets, transforms, models\n",
    "from torch.utils.data import DataLoader, Dataset\n",
    "from sklearn.metrics import accuracy_score, recall_score, confusion_matrix, f1_score, precision_recall_fscore_support, ConfusionMatrixDisplay\n",
    "import numpy as np\n",
    "from torchvision.models import resnet18, ResNet18_Weights\n",
    "import pandas as pd\n",
    "\n",
    "from dotenv import load_dotenv\n",
    "\n",
    "# Cargar las variables desde el archivo .env\n",
    "load_dotenv()"
   ]
  },
  {
   "cell_type": "code",
   "execution_count": 2,
   "id": "d903de5a",
   "metadata": {},
   "outputs": [
    {
     "name": "stderr",
     "output_type": "stream",
     "text": [
      "c:\\Users\\pedro\\TP_VPC2\\.venv\\Lib\\site-packages\\tqdm\\auto.py:21: TqdmWarning: IProgress not found. Please update jupyter and ipywidgets. See https://ipywidgets.readthedocs.io/en/stable/user_install.html\n",
      "  from .autonotebook import tqdm as notebook_tqdm\n"
     ]
    },
    {
     "name": "stdout",
     "output_type": "stream",
     "text": [
      "Path to dataset files: C:\\Users\\pedro\\.cache\\kagglehub\\datasets\\mohamedhanyyy\\chest-ctscan-images\\versions\\1\n"
     ]
    }
   ],
   "source": [
    "# Download latest version\n",
    "import kagglehub\n",
    "path = kagglehub.dataset_download(\"mohamedhanyyy/chest-ctscan-images\")\n",
    "\n",
    "print(\"Path to dataset files:\", path)\n",
    "data_dir = os.path.join(path, \"Data\")"
   ]
  },
  {
   "cell_type": "markdown",
   "id": "3085d6c6",
   "metadata": {},
   "source": [
    "### Configuración"
   ]
  },
  {
   "cell_type": "code",
   "execution_count": 14,
   "id": "8b9d7764",
   "metadata": {},
   "outputs": [],
   "source": [
    "device = torch.device(\"cuda\" if torch.cuda.is_available() else \"cpu\")\n",
    "path = os.getenv(\"DATASET_PATH\")\n",
    "data_dir = os.path.join(path, \"Data\")\n",
    "num_classes = 4\n",
    "batch_size = 32\n",
    "num_epochs = 5\n",
    "learning_rate = 1e-3"
   ]
  },
  {
   "cell_type": "code",
   "execution_count": 15,
   "id": "3366b5b1",
   "metadata": {},
   "outputs": [
    {
     "name": "stdout",
     "output_type": "stream",
     "text": [
      "Using device: cuda\n"
     ]
    }
   ],
   "source": [
    "print(f\"Using device: {device}\")"
   ]
  },
  {
   "cell_type": "code",
   "execution_count": 16,
   "id": "2ebab36b",
   "metadata": {},
   "outputs": [
    {
     "name": "stdout",
     "output_type": "stream",
     "text": [
      "ImageClassification(\n",
      "    crop_size=[224]\n",
      "    resize_size=[256]\n",
      "    mean=[0.485, 0.456, 0.406]\n",
      "    std=[0.229, 0.224, 0.225]\n",
      "    interpolation=InterpolationMode.BILINEAR\n",
      ")\n"
     ]
    }
   ],
   "source": [
    "# Transformaciones para los datos\n",
    "weights = ResNet18_Weights.DEFAULT\n",
    "transform = weights.transforms()\n",
    "\n",
    "print(transform)"
   ]
  },
  {
   "cell_type": "code",
   "execution_count": 17,
   "id": "0b3e0db8",
   "metadata": {},
   "outputs": [],
   "source": [
    "# Datasets y DataLoaders\n",
    "train_ds = datasets.ImageFolder(os.path.join(data_dir, \"train\"), transform=transform)\n",
    "valid_ds = datasets.ImageFolder(os.path.join(data_dir, \"valid\"), transform=transform)\n",
    "test_ds  = datasets.ImageFolder(os.path.join(data_dir, \"test\"), transform=transform)\n",
    "\n",
    "train_loader = DataLoader(train_ds, batch_size=batch_size, shuffle=True)\n",
    "valid_loader = DataLoader(valid_ds, batch_size=batch_size)\n",
    "test_loader  = DataLoader(test_ds, batch_size=batch_size)"
   ]
  },
  {
   "cell_type": "code",
   "execution_count": 18,
   "id": "58741bdb",
   "metadata": {},
   "outputs": [
    {
     "name": "stdout",
     "output_type": "stream",
     "text": [
      "ResNet(\n",
      "  (conv1): Conv2d(3, 64, kernel_size=(7, 7), stride=(2, 2), padding=(3, 3), bias=False)\n",
      "  (bn1): BatchNorm2d(64, eps=1e-05, momentum=0.1, affine=True, track_running_stats=True)\n",
      "  (relu): ReLU(inplace=True)\n",
      "  (maxpool): MaxPool2d(kernel_size=3, stride=2, padding=1, dilation=1, ceil_mode=False)\n",
      "  (layer1): Sequential(\n",
      "    (0): BasicBlock(\n",
      "      (conv1): Conv2d(64, 64, kernel_size=(3, 3), stride=(1, 1), padding=(1, 1), bias=False)\n",
      "      (bn1): BatchNorm2d(64, eps=1e-05, momentum=0.1, affine=True, track_running_stats=True)\n",
      "      (relu): ReLU(inplace=True)\n",
      "      (conv2): Conv2d(64, 64, kernel_size=(3, 3), stride=(1, 1), padding=(1, 1), bias=False)\n",
      "      (bn2): BatchNorm2d(64, eps=1e-05, momentum=0.1, affine=True, track_running_stats=True)\n",
      "    )\n",
      "    (1): BasicBlock(\n",
      "      (conv1): Conv2d(64, 64, kernel_size=(3, 3), stride=(1, 1), padding=(1, 1), bias=False)\n",
      "      (bn1): BatchNorm2d(64, eps=1e-05, momentum=0.1, affine=True, track_running_stats=True)\n",
      "      (relu): ReLU(inplace=True)\n",
      "      (conv2): Conv2d(64, 64, kernel_size=(3, 3), stride=(1, 1), padding=(1, 1), bias=False)\n",
      "      (bn2): BatchNorm2d(64, eps=1e-05, momentum=0.1, affine=True, track_running_stats=True)\n",
      "    )\n",
      "  )\n",
      "  (layer2): Sequential(\n",
      "    (0): BasicBlock(\n",
      "      (conv1): Conv2d(64, 128, kernel_size=(3, 3), stride=(2, 2), padding=(1, 1), bias=False)\n",
      "      (bn1): BatchNorm2d(128, eps=1e-05, momentum=0.1, affine=True, track_running_stats=True)\n",
      "      (relu): ReLU(inplace=True)\n",
      "      (conv2): Conv2d(128, 128, kernel_size=(3, 3), stride=(1, 1), padding=(1, 1), bias=False)\n",
      "      (bn2): BatchNorm2d(128, eps=1e-05, momentum=0.1, affine=True, track_running_stats=True)\n",
      "      (downsample): Sequential(\n",
      "        (0): Conv2d(64, 128, kernel_size=(1, 1), stride=(2, 2), bias=False)\n",
      "        (1): BatchNorm2d(128, eps=1e-05, momentum=0.1, affine=True, track_running_stats=True)\n",
      "      )\n",
      "    )\n",
      "    (1): BasicBlock(\n",
      "      (conv1): Conv2d(128, 128, kernel_size=(3, 3), stride=(1, 1), padding=(1, 1), bias=False)\n",
      "      (bn1): BatchNorm2d(128, eps=1e-05, momentum=0.1, affine=True, track_running_stats=True)\n",
      "      (relu): ReLU(inplace=True)\n",
      "      (conv2): Conv2d(128, 128, kernel_size=(3, 3), stride=(1, 1), padding=(1, 1), bias=False)\n",
      "      (bn2): BatchNorm2d(128, eps=1e-05, momentum=0.1, affine=True, track_running_stats=True)\n",
      "    )\n",
      "  )\n",
      "  (layer3): Sequential(\n",
      "    (0): BasicBlock(\n",
      "      (conv1): Conv2d(128, 256, kernel_size=(3, 3), stride=(2, 2), padding=(1, 1), bias=False)\n",
      "      (bn1): BatchNorm2d(256, eps=1e-05, momentum=0.1, affine=True, track_running_stats=True)\n",
      "      (relu): ReLU(inplace=True)\n",
      "      (conv2): Conv2d(256, 256, kernel_size=(3, 3), stride=(1, 1), padding=(1, 1), bias=False)\n",
      "      (bn2): BatchNorm2d(256, eps=1e-05, momentum=0.1, affine=True, track_running_stats=True)\n",
      "      (downsample): Sequential(\n",
      "        (0): Conv2d(128, 256, kernel_size=(1, 1), stride=(2, 2), bias=False)\n",
      "        (1): BatchNorm2d(256, eps=1e-05, momentum=0.1, affine=True, track_running_stats=True)\n",
      "      )\n",
      "    )\n",
      "    (1): BasicBlock(\n",
      "      (conv1): Conv2d(256, 256, kernel_size=(3, 3), stride=(1, 1), padding=(1, 1), bias=False)\n",
      "      (bn1): BatchNorm2d(256, eps=1e-05, momentum=0.1, affine=True, track_running_stats=True)\n",
      "      (relu): ReLU(inplace=True)\n",
      "      (conv2): Conv2d(256, 256, kernel_size=(3, 3), stride=(1, 1), padding=(1, 1), bias=False)\n",
      "      (bn2): BatchNorm2d(256, eps=1e-05, momentum=0.1, affine=True, track_running_stats=True)\n",
      "    )\n",
      "  )\n",
      "  (layer4): Sequential(\n",
      "    (0): BasicBlock(\n",
      "      (conv1): Conv2d(256, 512, kernel_size=(3, 3), stride=(2, 2), padding=(1, 1), bias=False)\n",
      "      (bn1): BatchNorm2d(512, eps=1e-05, momentum=0.1, affine=True, track_running_stats=True)\n",
      "      (relu): ReLU(inplace=True)\n",
      "      (conv2): Conv2d(512, 512, kernel_size=(3, 3), stride=(1, 1), padding=(1, 1), bias=False)\n",
      "      (bn2): BatchNorm2d(512, eps=1e-05, momentum=0.1, affine=True, track_running_stats=True)\n",
      "      (downsample): Sequential(\n",
      "        (0): Conv2d(256, 512, kernel_size=(1, 1), stride=(2, 2), bias=False)\n",
      "        (1): BatchNorm2d(512, eps=1e-05, momentum=0.1, affine=True, track_running_stats=True)\n",
      "      )\n",
      "    )\n",
      "    (1): BasicBlock(\n",
      "      (conv1): Conv2d(512, 512, kernel_size=(3, 3), stride=(1, 1), padding=(1, 1), bias=False)\n",
      "      (bn1): BatchNorm2d(512, eps=1e-05, momentum=0.1, affine=True, track_running_stats=True)\n",
      "      (relu): ReLU(inplace=True)\n",
      "      (conv2): Conv2d(512, 512, kernel_size=(3, 3), stride=(1, 1), padding=(1, 1), bias=False)\n",
      "      (bn2): BatchNorm2d(512, eps=1e-05, momentum=0.1, affine=True, track_running_stats=True)\n",
      "    )\n",
      "  )\n",
      "  (avgpool): AdaptiveAvgPool2d(output_size=(1, 1))\n",
      "  (fc): Linear(in_features=512, out_features=4, bias=True)\n",
      ")\n"
     ]
    },
    {
     "name": "stderr",
     "output_type": "stream",
     "text": [
      "c:\\Users\\pedro\\TP_VPC2\\.venv\\Lib\\site-packages\\torchvision\\models\\_utils.py:208: UserWarning: The parameter 'pretrained' is deprecated since 0.13 and may be removed in the future, please use 'weights' instead.\n",
      "  warnings.warn(\n",
      "c:\\Users\\pedro\\TP_VPC2\\.venv\\Lib\\site-packages\\torchvision\\models\\_utils.py:223: UserWarning: Arguments other than a weight enum or `None` for 'weights' are deprecated since 0.13 and may be removed in the future. The current behavior is equivalent to passing `weights=ResNet18_Weights.IMAGENET1K_V1`. You can also use `weights=ResNet18_Weights.DEFAULT` to get the most up-to-date weights.\n",
      "  warnings.warn(msg)\n"
     ]
    }
   ],
   "source": [
    "# Modelo\n",
    "model = models.resnet18(pretrained=True)\n",
    "\n",
    "# Congelar capas convolucionales\n",
    "for param in model.parameters():\n",
    "    param.requires_grad = False\n",
    "\n",
    "# Reemplazar la capa final\n",
    "model.fc = nn.Linear(model.fc.in_features, num_classes)\n",
    "model = model.to(device)\n",
    "\n",
    "print(model)"
   ]
  },
  {
   "cell_type": "markdown",
   "id": "2fbc0d32",
   "metadata": {},
   "source": [
    "### Entrenamiento"
   ]
  },
  {
   "cell_type": "code",
   "execution_count": null,
   "id": "30c20460",
   "metadata": {},
   "outputs": [],
   "source": [
    "def calcular_merticas_(all_labels, all_preds):\n",
    "    acc = accuracy_score(all_labels, all_preds)\n",
    "\n",
    "    # Sensibilidad es recall de la clase positiva\n",
    "    sensibilidad = recall_score(all_labels, all_preds, pos_label=1)\n",
    "\n",
    "    # Especificidad es recall de la clase negativa\n",
    "    especificidad = recall_score(all_labels, all_preds, pos_label=0)\n",
    "\n",
    "    f1 = f1_score(all_labels, all_preds, pos_label=1)\n",
    "\n",
    "    return {\n",
    "        \"Accuracy\": acc,\n",
    "        \"Sensibilidad\": sensibilidad,\n",
    "        \"Especificidad\": especificidad,\n",
    "        \"F1\": f1\n",
    "    }"
   ]
  },
  {
   "cell_type": "code",
   "execution_count": 32,
   "id": "e35aa9d6",
   "metadata": {},
   "outputs": [],
   "source": [
    "def metricas(modelo, dataloader, class_names, zero_division=0):\n",
    "    modelo.eval()\n",
    "    all_preds, all_labels = [], []\n",
    "\n",
    "    with torch.no_grad():\n",
    "        for x, y in dataloader:\n",
    "            x, y = x.to(device), y.to(device)\n",
    "            outputs = modelo(x)\n",
    "            preds = torch.argmax(outputs, dim=1)\n",
    "            all_preds.extend(preds.cpu().numpy())\n",
    "            all_labels.extend(y.cpu().numpy())\n",
    "\n",
    "    overall_accuracy = accuracy_score(all_labels, all_preds)\n",
    "\n",
    "    precision, recall, f1, _ = precision_recall_fscore_support(\n",
    "        all_labels,\n",
    "        all_preds,\n",
    "        average=None,\n",
    "        zero_division=zero_division,\n",
    "    )\n",
    "\n",
    "    cm = confusion_matrix(all_labels, all_preds)\n",
    "    total_samples = cm.sum()\n",
    "\n",
    "    per_class_rows = []\n",
    "    for idx, name in enumerate(class_names):\n",
    "        tp = cm[idx, idx]\n",
    "        fp = cm[:, idx].sum() - tp\n",
    "        fn = cm[idx, :].sum() - tp\n",
    "        tn = total_samples - (tp + fp + fn)\n",
    "\n",
    "        specificity = tn / (tn + fp) if (tn + fp) > 0 else zero_division\n",
    "        class_accuracy = (tp + tn) / total_samples if total_samples > 0 else 0.0\n",
    "\n",
    "        per_class_rows.append(\n",
    "            {\n",
    "                \"clase\": name,\n",
    "                \"accuracy\": float(class_accuracy),\n",
    "                \"precision\": float(precision[idx]),\n",
    "                \"sensibilidad\": float(recall[idx]),\n",
    "                \"especificidad\": float(specificity),\n",
    "                \"f1\": float(f1[idx]),\n",
    "            }\n",
    "        )\n",
    "\n",
    "    metrics_df = pd.DataFrame(per_class_rows).set_index(\"clase\")\n",
    "\n",
    "    overall_f1 = f1_score(\n",
    "        all_labels,\n",
    "        all_preds,\n",
    "        average=\"macro\",\n",
    "        zero_division=zero_division,\n",
    "    )\n",
    "\n",
    "    globales = {\n",
    "        \"accuracy_global\": float(overall_accuracy),\n",
    "        \"f1_global\": float(overall_f1),\n",
    "    }\n",
    "\n",
    "    return metrics_df, globales, cm"
   ]
  },
  {
   "cell_type": "code",
   "execution_count": 29,
   "id": "db6eda3c",
   "metadata": {},
   "outputs": [
    {
     "name": "stdout",
     "output_type": "stream",
     "text": [
      "Entrenamiento:\n",
      "Epoch 1/5 | Train Acc: 0.81 | Val Acc: 0.68\n",
      "Epoch 2/5 | Train Acc: 0.85 | Val Acc: 0.67\n",
      "Epoch 3/5 | Train Acc: 0.85 | Val Acc: 0.64\n",
      "Epoch 4/5 | Train Acc: 0.85 | Val Acc: 0.65\n",
      "Epoch 5/5 | Train Acc: 0.85 | Val Acc: 0.65\n"
     ]
    }
   ],
   "source": [
    "criterion = nn.CrossEntropyLoss()\n",
    "optimizer = Adam(model.fc.parameters(), lr=learning_rate)\n",
    "\n",
    "def evaluar_acc(modelo, dataloader):\n",
    "    modelo.eval()\n",
    "    all_preds, all_labels = [], []\n",
    "\n",
    "    with torch.no_grad():\n",
    "        for x, y in dataloader:\n",
    "            x, y = x.to(device), y.to(device)\n",
    "            outputs = modelo(x)\n",
    "            preds = torch.argmax(outputs, dim=1)\n",
    "            all_preds.extend(preds.cpu().numpy())\n",
    "            all_labels.extend(y.cpu().numpy())\n",
    "\n",
    "    acc = accuracy_score(all_labels, all_preds)\n",
    "    return acc\n",
    "    \n",
    "\n",
    "print(\"Entrenamiento:\")\n",
    "\n",
    "for epoch in range(num_epochs):\n",
    "    model.train()\n",
    "    for images, labels in train_loader:\n",
    "        images, labels = images.to(device), labels.to(device)\n",
    "\n",
    "        outputs = model(images)\n",
    "        loss = criterion(outputs, labels)\n",
    "\n",
    "        optimizer.zero_grad()\n",
    "        loss.backward()\n",
    "        optimizer.step()\n",
    "\n",
    "    # Evaluación por epoch\n",
    "    train_acc = evaluar_acc(model, train_loader)\n",
    "    val_acc = evaluar_acc(model, valid_loader)\n",
    "    print(f\"Epoch {epoch+1}/{num_epochs} | Train Acc: {train_acc:.2f} | Val Acc: {val_acc:.2f}\")\n"
   ]
  },
  {
   "cell_type": "markdown",
   "id": "66c7bbbc",
   "metadata": {},
   "source": [
    "### Evaluacion"
   ]
  },
  {
   "cell_type": "code",
   "execution_count": 49,
   "id": "4c4c47ed",
   "metadata": {},
   "outputs": [],
   "source": [
    "import matplotlib.pyplot as plt\n",
    "def plot_cm(cm, classes, normalize = 'true'):\n",
    "    if normalize is None:\n",
    "        cm_to_plot = cm\n",
    "        values_format = \"d\"\n",
    "    elif normalize == \"true\":\n",
    "        cm_to_plot = cm.astype(float) / cm.sum(axis=1, keepdims=True)\n",
    "        values_format = \".2f\"\n",
    "    elif normalize == \"pred\":\n",
    "        cm_to_plot = cm.astype(float) / cm.sum(axis=0, keepdims=True)\n",
    "        values_format = \".2f\"\n",
    "    elif normalize == \"all\":\n",
    "        cm_to_plot = cm.astype(float) / cm.sum()\n",
    "        values_format = \".2f\"\n",
    "    else:\n",
    "        raise ValueError(\"normalize debe ser None, 'true', 'pred' o 'all'.\")\n",
    "\n",
    "    fig, ax = plt.subplots(figsize=(8, 6))\n",
    "    disp = ConfusionMatrixDisplay(confusion_matrix=cm_to_plot, display_labels=classes)\n",
    "    disp.plot(include_values=True, ax=ax, colorbar=True, values_format=values_format)\n",
    "    title_suffix = \"\" if normalize is None else \" (normalizada)\"\n",
    "    ax.set_title(f\"Matriz de confusión{title_suffix}\")\n",
    "    plt.tight_layout()\n",
    "    plt.show()"
   ]
  },
  {
   "cell_type": "code",
   "execution_count": null,
   "id": "a15abbeb",
   "metadata": {},
   "outputs": [
    {
     "data": {
      "text/html": [
       "<div>\n",
       "<style scoped>\n",
       "    .dataframe tbody tr th:only-of-type {\n",
       "        vertical-align: middle;\n",
       "    }\n",
       "\n",
       "    .dataframe tbody tr th {\n",
       "        vertical-align: top;\n",
       "    }\n",
       "\n",
       "    .dataframe thead th {\n",
       "        text-align: right;\n",
       "    }\n",
       "</style>\n",
       "<table border=\"1\" class=\"dataframe\">\n",
       "  <thead>\n",
       "    <tr style=\"text-align: right;\">\n",
       "      <th></th>\n",
       "      <th>accuracy</th>\n",
       "      <th>precision</th>\n",
       "      <th>sensibilidad</th>\n",
       "      <th>especificidad</th>\n",
       "      <th>f1</th>\n",
       "    </tr>\n",
       "    <tr>\n",
       "      <th>clase</th>\n",
       "      <th></th>\n",
       "      <th></th>\n",
       "      <th></th>\n",
       "      <th></th>\n",
       "      <th></th>\n",
       "    </tr>\n",
       "  </thead>\n",
       "  <tbody>\n",
       "    <tr>\n",
       "      <th>adenocarcinoma</th>\n",
       "      <td>0.685714</td>\n",
       "      <td>0.601942</td>\n",
       "      <td>0.516667</td>\n",
       "      <td>0.789744</td>\n",
       "      <td>0.556054</td>\n",
       "    </tr>\n",
       "    <tr>\n",
       "      <th>large.cell.carcinoma</th>\n",
       "      <td>0.726984</td>\n",
       "      <td>0.319588</td>\n",
       "      <td>0.607843</td>\n",
       "      <td>0.750000</td>\n",
       "      <td>0.418919</td>\n",
       "    </tr>\n",
       "    <tr>\n",
       "      <th>normal</th>\n",
       "      <td>1.000000</td>\n",
       "      <td>1.000000</td>\n",
       "      <td>1.000000</td>\n",
       "      <td>1.000000</td>\n",
       "      <td>1.000000</td>\n",
       "    </tr>\n",
       "    <tr>\n",
       "      <th>squamous.cell.carcinoma</th>\n",
       "      <td>0.768254</td>\n",
       "      <td>0.639344</td>\n",
       "      <td>0.433333</td>\n",
       "      <td>0.902222</td>\n",
       "      <td>0.516556</td>\n",
       "    </tr>\n",
       "  </tbody>\n",
       "</table>\n",
       "</div>"
      ],
      "text/plain": [
       "                         accuracy  precision  sensibilidad  especificidad  \\\n",
       "clase                                                                       \n",
       "adenocarcinoma           0.685714   0.601942      0.516667       0.789744   \n",
       "large.cell.carcinoma     0.726984   0.319588      0.607843       0.750000   \n",
       "normal                   1.000000   1.000000      1.000000       1.000000   \n",
       "squamous.cell.carcinoma  0.768254   0.639344      0.433333       0.902222   \n",
       "\n",
       "                               f1  \n",
       "clase                              \n",
       "adenocarcinoma           0.556054  \n",
       "large.cell.carcinoma     0.418919  \n",
       "normal                   1.000000  \n",
       "squamous.cell.carcinoma  0.516556  "
      ]
     },
     "metadata": {},
     "output_type": "display_data"
    },
    {
     "name": "stdout",
     "output_type": "stream",
     "text": [
      "{'accuracy_global': 0.5904761904761905, 'f1_global': 0.62288225549221}\n"
     ]
    },
    {
     "data": {
      "image/png": "[encoded data removed]",
      "text/plain": [
       "<Figure size 800x600 with 2 Axes>"
      ]
     },
     "metadata": {},
     "output_type": "display_data"
    }
   ],
   "source": [
    "from IPython.display import display\n",
    "class_names = train_ds.classes\n",
    "metrics_df, globales, cm =  metricas(model, test_loader, class_names)\n",
    "display(metrics_df)\n",
    "print(globales)\n",
    "plot_cm(cm, class_names)"
   ]
  },
  {
   "cell_type": "code",
   "execution_count": null,
   "id": "9e10783a",
   "metadata": {},
   "outputs": [],
   "source": [
    "# Guardar el modelo entrenado\n",
    "torch.save(model.state_dict(), \"Output/baseline_model.pth\")"
   ]
  },
  {
   "cell_type": "markdown",
   "id": "6b7fa3b8",
   "metadata": {},
   "source": [
    "### Conclusiones Preliminares"
   ]
  },
  {
   "cell_type": "markdown",
   "id": "a0510f30",
   "metadata": {},
   "source": [
    "Aunque las métricas globales (accuracy y F1) de validación y testeo sugieren un rendimiento bajo, el análisis one‑vs‑all y la matriz de confusión normalizada revelan que el modelo identifica de forma prácticamente perfecta las imágenes normales: la clase “normal” alcanza 1.00 en su fila y no genera falsos positivos. El error se concentra entre los subtipos de cáncer (adenocarcinoma, large cell y squamous), con confusiones cruzadas muy altas.\n",
    "\n",
    " Por ejemplo el 34% de adenocarcinoma se predice como large cell y 29% de squamous se reparte entre otros subtipos, lo que arrastra los promedios globales. En síntesis, el clasificador ya es muy sólido para el objetivo de “normal vs. cáncer”, pero requiere mejoras específicas para distinguir entre subtipos tumorales. Esto se condice con las conclusiones obtenidas en el analisis exploratorio de datos, donde se veia que habia relaciones muy simples y lineales entre las imagenes con y sin cancer, pero mas complejas enter los subtipos de cancer, lo que hacia la necesidad de un probar enfoques mas avanzadso como por ejemplo con mayor preprocesamiento, data augmentation, un finetuning ams complejo o hasta el uso de un modelo mas complejo o mas ciclos de entrenamiento."
   ]
  }
 ],
 "metadata": {
  "kernelspec": {
   "display_name": ".venv",
   "language": "python",
   "name": "python3"
  },
  "language_info": {
   "codemirror_mode": {
    "name": "ipython",
    "version": 3
   },
   "file_extension": ".py",
   "mimetype": "text/x-python",
   "name": "python",
   "nbconvert_exporter": "python",
   "pygments_lexer": "ipython3",
   "version": "3.11.9"
  }
 },
 "nbformat": 4,
 "nbformat_minor": 5
}
